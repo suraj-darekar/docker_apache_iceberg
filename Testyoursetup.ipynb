{
 "cells": [
  {
   "cell_type": "code",
   "execution_count": null,
   "id": "10c96124-69f0-457f-8e94-90dbdc305af0",
   "metadata": {},
   "outputs": [],
   "source": [
    "from pyspark.sql import SparkSession\n",
    "\n",
    "spark = SparkSession.builder \\\n",
    "    .appName(\"IcebergRESTMinimal\") \\\n",
    "    .config(\"spark.sql.catalog.iceberg_catalog\", \"org.apache.iceberg.spark.SparkCatalog\") \\\n",
    "    .config(\"spark.sql.catalog.iceberg_catalog.type\", \"rest\") \\\n",
    "    .config(\"spark.sql.catalog.iceberg_catalog.uri\", \"http://iceberg-rest:8181\") \\\n",
    "    .getOrCreate()\n"
   ]
  },
  {
   "cell_type": "code",
   "execution_count": null,
   "id": "cce80135-d72c-4c7c-8a83-8b6f5abb1775",
   "metadata": {},
   "outputs": [],
   "source": [
    "spark.sql(\"SHOW DATABASES IN iceberg_catalog\").show()"
   ]
  },
  {
   "cell_type": "code",
   "execution_count": null,
   "id": "dd9d43fe-ddd5-4aeb-b41c-dc709961aa60",
   "metadata": {},
   "outputs": [],
   "source": [
    "# Create a new Iceberg table\n",
    "spark.sql(\"\"\"\n",
    "CREATE TABLE iceberg_catalog.louie_db.louie_table (\n",
    "    id INT,\n",
    "    name STRING,\n",
    "    timestamp TIMESTAMP\n",
    ")\n",
    "USING iceberg\n",
    "\"\"\")"
   ]
  },
  {
   "cell_type": "code",
   "execution_count": null,
   "id": "326f2ae9-8efa-4a4c-98f0-571ab99386be",
   "metadata": {},
   "outputs": [],
   "source": []
  }
 ],
 "metadata": {
  "kernelspec": {
   "display_name": "Python 3 (ipykernel)",
   "language": "python",
   "name": "python3"
  },
  "language_info": {
   "codemirror_mode": {
    "name": "ipython",
    "version": 3
   },
   "file_extension": ".py",
   "mimetype": "text/x-python",
   "name": "python",
   "nbconvert_exporter": "python",
   "pygments_lexer": "ipython3",
   "version": "3.9.18"
  }
 },
 "nbformat": 4,
 "nbformat_minor": 5
}
